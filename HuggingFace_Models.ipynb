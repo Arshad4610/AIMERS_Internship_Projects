{
  "nbformat": 4,
  "nbformat_minor": 0,
  "metadata": {
    "colab": {
      "provenance": [],
      "authorship_tag": "ABX9TyPy52zvfrMF0HTMrUHHS2rq",
      "include_colab_link": true
    },
    "kernelspec": {
      "name": "python3",
      "display_name": "Python 3"
    },
    "language_info": {
      "name": "python"
    }
  },
  "cells": [
    {
      "cell_type": "markdown",
      "metadata": {
        "id": "view-in-github",
        "colab_type": "text"
      },
      "source": [
        "<a href=\"https://colab.research.google.com/github/Arshad4610/AIMERS_Internship_Projects/blob/main/HuggingFace_Models.ipynb\" target=\"_parent\"><img src=\"https://colab.research.google.com/assets/colab-badge.svg\" alt=\"Open In Colab\"/></a>"
      ]
    },
    {
      "cell_type": "markdown",
      "source": [
        "# **Visual Question and Answering**"
      ],
      "metadata": {
        "id": "0bwflWobzP04"
      }
    },
    {
      "cell_type": "code",
      "execution_count": null,
      "metadata": {
        "colab": {
          "base_uri": "https://localhost:8080/"
        },
        "id": "NAEZvASPwPFv",
        "outputId": "7fd3fccc-b173-4770-d9a7-a0ace6a547db"
      },
      "outputs": [
        {
          "output_type": "stream",
          "name": "stdout",
          "text": [
            "Answer: lab\n"
          ]
        }
      ],
      "source": [
        "import requests\n",
        "from PIL import Image\n",
        "from transformers import BlipProcessor, BlipForQuestionAnswering\n",
        "\n",
        "processor = BlipProcessor.from_pretrained(\"Salesforce/blip-vqa-base\")\n",
        "model = BlipForQuestionAnswering.from_pretrained(\"Salesforce/blip-vqa-base\")\n",
        "\n",
        "img_url = 'https://storage.googleapis.com/sfr-vision-language-research/BLIP/demo.jpg'\n",
        "raw_image = Image.open(requests.get(img_url, stream=True).raw).convert('RGB')\n",
        "\n",
        "question = \"what is the breed of the dog?\"\n",
        "inputs = processor(raw_image, question, return_tensors=\"pt\")\n",
        "\n",
        "out = model.generate(**inputs)\n",
        "print(\"Answer:\",processor.decode(out[0], skip_special_tokens=True))\n",
        "\n"
      ]
    },
    {
      "cell_type": "markdown",
      "source": [
        "# **Fill Mask**"
      ],
      "metadata": {
        "id": "D0pIbi-kzusn"
      }
    },
    {
      "cell_type": "code",
      "source": [
        "from transformers import pipeline\n",
        "unmasker = pipeline('fill-mask', model='bert-base-uncased')\n",
        "unmasker(\"I drink [MASK] Tea.\")"
      ],
      "metadata": {
        "colab": {
          "base_uri": "https://localhost:8080/"
        },
        "id": "_UaOn499wsG0",
        "outputId": "e2deac34-eba3-4b70-93a6-16d455383ad0"
      },
      "execution_count": null,
      "outputs": [
        {
          "output_type": "stream",
          "name": "stderr",
          "text": [
            "Some weights of the model checkpoint at bert-base-uncased were not used when initializing BertForMaskedLM: ['bert.pooler.dense.bias', 'bert.pooler.dense.weight', 'cls.seq_relationship.bias', 'cls.seq_relationship.weight']\n",
            "- This IS expected if you are initializing BertForMaskedLM from the checkpoint of a model trained on another task or with another architecture (e.g. initializing a BertForSequenceClassification model from a BertForPreTraining model).\n",
            "- This IS NOT expected if you are initializing BertForMaskedLM from the checkpoint of a model that you expect to be exactly identical (initializing a BertForSequenceClassification model from a BertForSequenceClassification model).\n"
          ]
        },
        {
          "output_type": "execute_result",
          "data": {
            "text/plain": [
              "[{'score': 0.5550870895385742,\n",
              "  'token': 2026,\n",
              "  'token_str': 'my',\n",
              "  'sequence': 'i drink my tea.'},\n",
              " {'score': 0.22788767516613007,\n",
              "  'token': 1996,\n",
              "  'token_str': 'the',\n",
              "  'sequence': 'i drink the tea.'},\n",
              " {'score': 0.09314040094614029,\n",
              "  'token': 2070,\n",
              "  'token_str': 'some',\n",
              "  'sequence': 'i drink some tea.'},\n",
              " {'score': 0.04940713569521904,\n",
              "  'token': 2062,\n",
              "  'token_str': 'more',\n",
              "  'sequence': 'i drink more tea.'},\n",
              " {'score': 0.012831738218665123,\n",
              "  'token': 2980,\n",
              "  'token_str': 'hot',\n",
              "  'sequence': 'i drink hot tea.'}]"
            ]
          },
          "metadata": {},
          "execution_count": 27
        }
      ]
    },
    {
      "cell_type": "markdown",
      "source": [
        "# **Summarise**"
      ],
      "metadata": {
        "id": "vMgLssSfz3QC"
      }
    },
    {
      "cell_type": "code",
      "source": [
        "from transformers import pipeline\n",
        "\n",
        "summarizer = pipeline(\"summarization\", model=\"facebook/bart-large-cnn\")\n",
        "\n",
        "ARTICLE = \"\"\"Swami Vivekananda (/ˈswɑːmi ˌvɪveɪˈkɑːnəndə/; Bengali: [ʃami bibekanɔndo] ⓘ; IAST: Svāmī Vivekānanda ; 12 January 1863 – 4 July 1902), born Narendranath Datta (Bengali: [nɔrendronatʰ dɔto]), was an Indian Hindu monk, philosopher, author, religious teacher, and the chief disciple of the Indian mystic Ramakrishna.[4][5] He was a key figure in the introduction of Vedanta and Yoga to the Western world,[6][7][8] and is the father of modern Indian nationalism who is credited with raising interfaith awareness and bringing Hinduism to the status of a major world religion in the late nineteenth century.[9]\n",
        "\n",
        "Born into an aristocratic Bengali Kayastha family in Calcutta, Vivekananda was inclined from a young age towards religion and spirituality. He later found his guru Ramakrishna and became a monk. After the death of Ramakrishna, Vivekananda extensively toured the Indian subcontinent as a wandering monk and acquired first-hand knowledge of the living conditions of Indian people in then British India. Moved by their plight, he resolved to help them and found a way to travel to the United States, where he became a popular figure after the 1893 Parliament of Religions in Chicago at which he delivered his famous speech beginning with the words: \"Sisters and brothers of America ...\" while introducing Hinduism to Americans.[10][11] He made such an impression there that an American newspaper described him as \"an orator by divine right and undoubtedly the greatest figure at the Parliament\".\n",
        "\"\"\"\n",
        "print(summarizer(ARTICLE, max_length=130, min_length=30, do_sample=False))\n",
        "\n"
      ],
      "metadata": {
        "colab": {
          "base_uri": "https://localhost:8080/"
        },
        "id": "t0o7jsBwxTPs",
        "outputId": "eee2d6b9-aaae-4f3e-9a23-e95527bb1cf6"
      },
      "execution_count": null,
      "outputs": [
        {
          "output_type": "stream",
          "name": "stdout",
          "text": [
            "[{'summary_text': 'Swami Vivekananda was an Indian Hindu monk, philosopher, author, religious teacher, and the chief disciple of the Indian mystic Ramakrishna. He was a key figure in the introduction of Vedanta and Yoga to the Western world. He is credited with raising interfaith awareness and bringing Hinduism to the status of a major world religion in the late nineteenth century.'}]\n"
          ]
        }
      ]
    },
    {
      "cell_type": "markdown",
      "source": [
        "# **Text Questions and Answers**"
      ],
      "metadata": {
        "id": "qurq6m8Bz9RL"
      }
    },
    {
      "cell_type": "code",
      "source": [
        "from transformers import AutoModelForQuestionAnswering, AutoTokenizer, pipeline\n",
        "\n",
        "model_name = \"deepset/roberta-base-squad2\"\n",
        "\n",
        "# a) Get predictions\n",
        "nlp = pipeline('question-answering', model=model_name, tokenizer=model_name)\n",
        "QA_input = {\n",
        "    'question': 'who is confident?',\n",
        "    'context': 'Rakesh is very confident'\n",
        "}\n",
        "res = nlp(QA_input)\n",
        "print(res,\"\\n\")\n",
        "print(\"Answer:\",res['answer'])\n",
        "\n",
        "# b) Load model & tokenizer\n",
        "model = AutoModelForQuestionAnswering.from_pretrained(model_name)\n",
        "tokenizer = AutoTokenizer.from_pretrained(model_name)\n"
      ],
      "metadata": {
        "colab": {
          "base_uri": "https://localhost:8080/"
        },
        "id": "6WWCLRAYxTYV",
        "outputId": "c39b288c-7c5d-4b22-cdbc-100600b41324"
      },
      "execution_count": null,
      "outputs": [
        {
          "output_type": "stream",
          "name": "stdout",
          "text": [
            "{'score': 0.9411765336990356, 'start': 0, 'end': 6, 'answer': 'Rakesh'} \n",
            "\n",
            "Answer: Rakesh\n"
          ]
        }
      ]
    }
  ]
}